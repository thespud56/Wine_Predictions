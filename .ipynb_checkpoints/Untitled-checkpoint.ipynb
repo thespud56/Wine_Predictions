{
<<<<<<< HEAD
 "cells": [],
 "metadata": {},
 "nbformat": 4,
 "nbformat_minor": 2
=======
 "cells": [
  {
   "cell_type": "code",
   "execution_count": null,
   "metadata": {},
   "outputs": [],
   "source": []
  }
 ],
 "metadata": {
  "kernelspec": {
   "display_name": "Python 3",
   "language": "python",
   "name": "python3"
  },
  "language_info": {
   "codemirror_mode": {
    "name": "ipython",
    "version": 3
   },
   "file_extension": ".py",
   "mimetype": "text/x-python",
   "name": "python",
   "nbconvert_exporter": "python",
   "pygments_lexer": "ipython3",
   "version": "3.7.3"
  }
 },
 "nbformat": 4,
 "nbformat_minor": 4
>>>>>>> 1fd80d3340d5f537bce87a4752a7d7a6d59b8f76
}
