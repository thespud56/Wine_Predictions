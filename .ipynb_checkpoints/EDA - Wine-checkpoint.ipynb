{
 "cells": [
  {
   "cell_type": "markdown",
   "metadata": {},
   "source": [
    "# Exploratory Data Analysis "
   ]
  },
  {
   "cell_type": "markdown",
   "metadata": {},
   "source": [
    "#### Importing Necessary Libraries"
   ]
  },
  {
   "cell_type": "code",
   "execution_count": 61,
   "metadata": {},
   "outputs": [],
   "source": [
    "import pandas as pd\n",
    "import numpy as np\n",
    "import missingno\n",
    "import matplotlib.pyplot as plt\n",
    "import seaborn as sns\n",
    "from scipy import stats\n",
    "from IPython.display import display_html\n",
    "import os\n",
    "import sys\n",
    "\n",
    "sys.path.append(os.getcwd() + '/modules')\n",
    "\n",
    "%matplotlib inline\n",
    "\n",
    "from sklearn import linear_model\n",
    "from sklearn.model_selection import train_test_split\n",
    "from sklearn import preprocessing\n",
    "from sklearn.decomposition import PCA\n",
    "import matplotlib.pyplot as plt\n",
    "from sklearn.metrics import mean_squared_error, r2_score\n",
    "from numpy import argmax\n",
    "from sklearn.preprocessing import LabelEncoder\n",
    "from sklearn.preprocessing import OneHotEncoder\n"
   ]
  },
  {
   "cell_type": "markdown",
   "metadata": {},
   "source": [
    "#### Reading in the Dataset as CSV"
   ]
  },
  {
   "cell_type": "code",
   "execution_count": 62,
   "metadata": {},
   "outputs": [],
   "source": [
    "raw_df = pd.read_csv('Data/winemag-data-130k-v2 copy.csv')"
   ]
  },
  {
   "cell_type": "code",
   "execution_count": 63,
   "metadata": {},
   "outputs": [
    {
     "data": {
      "text/plain": [
       "(129971, 14)"
      ]
     },
     "execution_count": 63,
     "metadata": {},
     "output_type": "execute_result"
    }
   ],
   "source": [
    "raw_df.shape"
   ]
  },
  {
   "cell_type": "markdown",
   "metadata": {},
   "source": [
    "#### Dropping duplicates\n",
    "The first instance of every duplicate will be kept in order to preserve as much data as possible."
   ]
  },
  {
   "cell_type": "code",
   "execution_count": 64,
   "metadata": {},
   "outputs": [],
   "source": [
    "nodup_df = raw_df.drop_duplicates(subset='title', keep='first')"
   ]
  },
  {
   "cell_type": "code",
   "execution_count": 65,
   "metadata": {},
   "outputs": [
    {
     "data": {
      "text/html": [
       "<div>\n",
       "<style scoped>\n",
       "    .dataframe tbody tr th:only-of-type {\n",
       "        vertical-align: middle;\n",
       "    }\n",
       "\n",
       "    .dataframe tbody tr th {\n",
       "        vertical-align: top;\n",
       "    }\n",
       "\n",
       "    .dataframe thead th {\n",
       "        text-align: right;\n",
       "    }\n",
       "</style>\n",
       "<table border=\"1\" class=\"dataframe\">\n",
       "  <thead>\n",
       "    <tr style=\"text-align: right;\">\n",
       "      <th></th>\n",
       "      <th>Unnamed: 0</th>\n",
       "      <th>country</th>\n",
       "      <th>description</th>\n",
       "      <th>designation</th>\n",
       "      <th>points</th>\n",
       "      <th>price</th>\n",
       "      <th>province</th>\n",
       "      <th>region_1</th>\n",
       "      <th>region_2</th>\n",
       "      <th>taster_name</th>\n",
       "      <th>taster_twitter_handle</th>\n",
       "      <th>title</th>\n",
       "      <th>variety</th>\n",
       "      <th>winery</th>\n",
       "    </tr>\n",
       "  </thead>\n",
       "  <tbody>\n",
       "    <tr>\n",
       "      <td>0</td>\n",
       "      <td>0</td>\n",
       "      <td>Italy</td>\n",
       "      <td>Aromas include tropical fruit, broom, brimston...</td>\n",
       "      <td>Vulkà Bianco</td>\n",
       "      <td>87</td>\n",
       "      <td>NaN</td>\n",
       "      <td>Sicily &amp; Sardinia</td>\n",
       "      <td>Etna</td>\n",
       "      <td>NaN</td>\n",
       "      <td>Kerin O’Keefe</td>\n",
       "      <td>@kerinokeefe</td>\n",
       "      <td>Nicosia 2013 Vulkà Bianco  (Etna)</td>\n",
       "      <td>White Blend</td>\n",
       "      <td>Nicosia</td>\n",
       "    </tr>\n",
       "    <tr>\n",
       "      <td>1</td>\n",
       "      <td>1</td>\n",
       "      <td>Portugal</td>\n",
       "      <td>This is ripe and fruity, a wine that is smooth...</td>\n",
       "      <td>Avidagos</td>\n",
       "      <td>87</td>\n",
       "      <td>15.0</td>\n",
       "      <td>Douro</td>\n",
       "      <td>NaN</td>\n",
       "      <td>NaN</td>\n",
       "      <td>Roger Voss</td>\n",
       "      <td>@vossroger</td>\n",
       "      <td>Quinta dos Avidagos 2011 Avidagos Red (Douro)</td>\n",
       "      <td>Portuguese Red</td>\n",
       "      <td>Quinta dos Avidagos</td>\n",
       "    </tr>\n",
       "    <tr>\n",
       "      <td>2</td>\n",
       "      <td>2</td>\n",
       "      <td>US</td>\n",
       "      <td>Tart and snappy, the flavors of lime flesh and...</td>\n",
       "      <td>NaN</td>\n",
       "      <td>87</td>\n",
       "      <td>14.0</td>\n",
       "      <td>Oregon</td>\n",
       "      <td>Willamette Valley</td>\n",
       "      <td>Willamette Valley</td>\n",
       "      <td>Paul Gregutt</td>\n",
       "      <td>@paulgwine</td>\n",
       "      <td>Rainstorm 2013 Pinot Gris (Willamette Valley)</td>\n",
       "      <td>Pinot Gris</td>\n",
       "      <td>Rainstorm</td>\n",
       "    </tr>\n",
       "    <tr>\n",
       "      <td>3</td>\n",
       "      <td>3</td>\n",
       "      <td>US</td>\n",
       "      <td>Pineapple rind, lemon pith and orange blossom ...</td>\n",
       "      <td>Reserve Late Harvest</td>\n",
       "      <td>87</td>\n",
       "      <td>13.0</td>\n",
       "      <td>Michigan</td>\n",
       "      <td>Lake Michigan Shore</td>\n",
       "      <td>NaN</td>\n",
       "      <td>Alexander Peartree</td>\n",
       "      <td>NaN</td>\n",
       "      <td>St. Julian 2013 Reserve Late Harvest Riesling ...</td>\n",
       "      <td>Riesling</td>\n",
       "      <td>St. Julian</td>\n",
       "    </tr>\n",
       "    <tr>\n",
       "      <td>4</td>\n",
       "      <td>4</td>\n",
       "      <td>US</td>\n",
       "      <td>Much like the regular bottling from 2012, this...</td>\n",
       "      <td>Vintner's Reserve Wild Child Block</td>\n",
       "      <td>87</td>\n",
       "      <td>65.0</td>\n",
       "      <td>Oregon</td>\n",
       "      <td>Willamette Valley</td>\n",
       "      <td>Willamette Valley</td>\n",
       "      <td>Paul Gregutt</td>\n",
       "      <td>@paulgwine</td>\n",
       "      <td>Sweet Cheeks 2012 Vintner's Reserve Wild Child...</td>\n",
       "      <td>Pinot Noir</td>\n",
       "      <td>Sweet Cheeks</td>\n",
       "    </tr>\n",
       "  </tbody>\n",
       "</table>\n",
       "</div>"
      ],
      "text/plain": [
       "   Unnamed: 0   country                                        description  \\\n",
       "0           0     Italy  Aromas include tropical fruit, broom, brimston...   \n",
       "1           1  Portugal  This is ripe and fruity, a wine that is smooth...   \n",
       "2           2        US  Tart and snappy, the flavors of lime flesh and...   \n",
       "3           3        US  Pineapple rind, lemon pith and orange blossom ...   \n",
       "4           4        US  Much like the regular bottling from 2012, this...   \n",
       "\n",
       "                          designation  points  price           province  \\\n",
       "0                        Vulkà Bianco      87    NaN  Sicily & Sardinia   \n",
       "1                            Avidagos      87   15.0              Douro   \n",
       "2                                 NaN      87   14.0             Oregon   \n",
       "3                Reserve Late Harvest      87   13.0           Michigan   \n",
       "4  Vintner's Reserve Wild Child Block      87   65.0             Oregon   \n",
       "\n",
       "              region_1           region_2         taster_name  \\\n",
       "0                 Etna                NaN       Kerin O’Keefe   \n",
       "1                  NaN                NaN          Roger Voss   \n",
       "2    Willamette Valley  Willamette Valley        Paul Gregutt   \n",
       "3  Lake Michigan Shore                NaN  Alexander Peartree   \n",
       "4    Willamette Valley  Willamette Valley        Paul Gregutt   \n",
       "\n",
       "  taster_twitter_handle                                              title  \\\n",
       "0          @kerinokeefe                  Nicosia 2013 Vulkà Bianco  (Etna)   \n",
       "1            @vossroger      Quinta dos Avidagos 2011 Avidagos Red (Douro)   \n",
       "2           @paulgwine       Rainstorm 2013 Pinot Gris (Willamette Valley)   \n",
       "3                   NaN  St. Julian 2013 Reserve Late Harvest Riesling ...   \n",
       "4           @paulgwine   Sweet Cheeks 2012 Vintner's Reserve Wild Child...   \n",
       "\n",
       "          variety               winery  \n",
       "0     White Blend              Nicosia  \n",
       "1  Portuguese Red  Quinta dos Avidagos  \n",
       "2      Pinot Gris            Rainstorm  \n",
       "3        Riesling           St. Julian  \n",
       "4      Pinot Noir         Sweet Cheeks  "
      ]
     },
     "execution_count": 65,
     "metadata": {},
     "output_type": "execute_result"
    }
   ],
   "source": [
    "nodup_df.head()"
   ]
  },
  {
   "cell_type": "markdown",
   "metadata": {},
   "source": [
    "#### Dropping unnecessary rows\n",
    "Since our projections of Points (Rating) will be based on Price, Province, Country and Variety. These were the chosen predictors because they are the most easily recognized, communicated and visualized. It keeps the audience from having unanswerable questions regarding how a specific rater's bias might play into prediction.  "
   ]
  },
  {
   "cell_type": "code",
   "execution_count": 66,
   "metadata": {},
   "outputs": [],
   "source": [
    "nodup_df = nodup_df.drop(['Unnamed: 0', 'region_1', 'region_2', 'designation', 'description', 'taster_name', 'taster_twitter_handle', 'winery', 'title'], axis=1)"
   ]
  },
  {
   "cell_type": "markdown",
   "metadata": {},
   "source": [
    "Gathering basic information about the new DataFrame"
   ]
  },
  {
   "cell_type": "code",
   "execution_count": 67,
   "metadata": {},
   "outputs": [
    {
     "data": {
      "text/html": [
       "<div>\n",
       "<style scoped>\n",
       "    .dataframe tbody tr th:only-of-type {\n",
       "        vertical-align: middle;\n",
       "    }\n",
       "\n",
       "    .dataframe tbody tr th {\n",
       "        vertical-align: top;\n",
       "    }\n",
       "\n",
       "    .dataframe thead th {\n",
       "        text-align: right;\n",
       "    }\n",
       "</style>\n",
       "<table border=\"1\" class=\"dataframe\">\n",
       "  <thead>\n",
       "    <tr style=\"text-align: right;\">\n",
       "      <th></th>\n",
       "      <th>country</th>\n",
       "      <th>points</th>\n",
       "      <th>price</th>\n",
       "      <th>province</th>\n",
       "      <th>variety</th>\n",
       "    </tr>\n",
       "  </thead>\n",
       "  <tbody>\n",
       "    <tr>\n",
       "      <td>0</td>\n",
       "      <td>Italy</td>\n",
       "      <td>87</td>\n",
       "      <td>NaN</td>\n",
       "      <td>Sicily &amp; Sardinia</td>\n",
       "      <td>White Blend</td>\n",
       "    </tr>\n",
       "    <tr>\n",
       "      <td>1</td>\n",
       "      <td>Portugal</td>\n",
       "      <td>87</td>\n",
       "      <td>15.0</td>\n",
       "      <td>Douro</td>\n",
       "      <td>Portuguese Red</td>\n",
       "    </tr>\n",
       "    <tr>\n",
       "      <td>2</td>\n",
       "      <td>US</td>\n",
       "      <td>87</td>\n",
       "      <td>14.0</td>\n",
       "      <td>Oregon</td>\n",
       "      <td>Pinot Gris</td>\n",
       "    </tr>\n",
       "    <tr>\n",
       "      <td>3</td>\n",
       "      <td>US</td>\n",
       "      <td>87</td>\n",
       "      <td>13.0</td>\n",
       "      <td>Michigan</td>\n",
       "      <td>Riesling</td>\n",
       "    </tr>\n",
       "    <tr>\n",
       "      <td>4</td>\n",
       "      <td>US</td>\n",
       "      <td>87</td>\n",
       "      <td>65.0</td>\n",
       "      <td>Oregon</td>\n",
       "      <td>Pinot Noir</td>\n",
       "    </tr>\n",
       "  </tbody>\n",
       "</table>\n",
       "</div>"
      ],
      "text/plain": [
       "    country  points  price           province         variety\n",
       "0     Italy      87    NaN  Sicily & Sardinia     White Blend\n",
       "1  Portugal      87   15.0              Douro  Portuguese Red\n",
       "2        US      87   14.0             Oregon      Pinot Gris\n",
       "3        US      87   13.0           Michigan        Riesling\n",
       "4        US      87   65.0             Oregon      Pinot Noir"
      ]
     },
     "execution_count": 67,
     "metadata": {},
     "output_type": "execute_result"
    }
   ],
   "source": [
    "nodup_df.head()"
   ]
  },
  {
   "cell_type": "code",
   "execution_count": 68,
   "metadata": {},
   "outputs": [
    {
     "name": "stdout",
     "output_type": "stream",
     "text": [
      "<class 'pandas.core.frame.DataFrame'>\n",
      "Int64Index: 118840 entries, 0 to 129970\n",
      "Data columns (total 5 columns):\n",
      "country     118781 non-null object\n",
      "points      118840 non-null int64\n",
      "price       110581 non-null float64\n",
      "province    118781 non-null object\n",
      "variety     118839 non-null object\n",
      "dtypes: float64(1), int64(1), object(3)\n",
      "memory usage: 5.4+ MB\n"
     ]
    }
   ],
   "source": [
    "nodup_df.info()"
   ]
  },
  {
   "cell_type": "markdown",
   "metadata": {},
   "source": [
    "Getting rid of null values"
   ]
  },
  {
   "cell_type": "code",
   "execution_count": 69,
   "metadata": {},
   "outputs": [],
   "source": [
    "nodup_df = nodup_df.drop(nodup_df[nodup_df['country'].isna()].index)"
   ]
  },
  {
   "cell_type": "code",
   "execution_count": 70,
   "metadata": {},
   "outputs": [
    {
     "name": "stdout",
     "output_type": "stream",
     "text": [
      "<class 'pandas.core.frame.DataFrame'>\n",
      "Int64Index: 118781 entries, 0 to 129970\n",
      "Data columns (total 5 columns):\n",
      "country     118781 non-null object\n",
      "points      118781 non-null int64\n",
      "price       110526 non-null float64\n",
      "province    118781 non-null object\n",
      "variety     118780 non-null object\n",
      "dtypes: float64(1), int64(1), object(3)\n",
      "memory usage: 5.4+ MB\n"
     ]
    }
   ],
   "source": [
    "nodup_df.info()"
   ]
  },
  {
   "cell_type": "code",
   "execution_count": 71,
   "metadata": {},
   "outputs": [],
   "source": [
    "nodup_df = nodup_df.drop(nodup_df[nodup_df['price'].isna()].index)"
   ]
  },
  {
   "cell_type": "markdown",
   "metadata": {},
   "source": [
    "Now that null values are elimnated, we will check a breif overview of the final dataset and, later, parameters will be set to diregard outliers and reduce the skew of the dataset."
   ]
  },
  {
   "cell_type": "code",
   "execution_count": 72,
   "metadata": {},
   "outputs": [
    {
     "name": "stdout",
     "output_type": "stream",
     "text": [
      "<class 'pandas.core.frame.DataFrame'>\n",
      "Int64Index: 110526 entries, 1 to 129970\n",
      "Data columns (total 5 columns):\n",
      "country     110526 non-null object\n",
      "points      110526 non-null int64\n",
      "price       110526 non-null float64\n",
      "province    110526 non-null object\n",
      "variety     110525 non-null object\n",
      "dtypes: float64(1), int64(1), object(3)\n",
      "memory usage: 5.1+ MB\n"
     ]
    }
   ],
   "source": [
    "nodup_df.info()"
   ]
  },
  {
   "cell_type": "code",
   "execution_count": 73,
   "metadata": {},
   "outputs": [
    {
     "data": {
      "text/html": [
       "<div>\n",
       "<style scoped>\n",
       "    .dataframe tbody tr th:only-of-type {\n",
       "        vertical-align: middle;\n",
       "    }\n",
       "\n",
       "    .dataframe tbody tr th {\n",
       "        vertical-align: top;\n",
       "    }\n",
       "\n",
       "    .dataframe thead th {\n",
       "        text-align: right;\n",
       "    }\n",
       "</style>\n",
       "<table border=\"1\" class=\"dataframe\">\n",
       "  <thead>\n",
       "    <tr style=\"text-align: right;\">\n",
       "      <th></th>\n",
       "      <th>country</th>\n",
       "      <th>points</th>\n",
       "      <th>price</th>\n",
       "      <th>province</th>\n",
       "      <th>variety</th>\n",
       "    </tr>\n",
       "  </thead>\n",
       "  <tbody>\n",
       "    <tr>\n",
       "      <td>1</td>\n",
       "      <td>Portugal</td>\n",
       "      <td>87</td>\n",
       "      <td>15.0</td>\n",
       "      <td>Douro</td>\n",
       "      <td>Portuguese Red</td>\n",
       "    </tr>\n",
       "    <tr>\n",
       "      <td>2</td>\n",
       "      <td>US</td>\n",
       "      <td>87</td>\n",
       "      <td>14.0</td>\n",
       "      <td>Oregon</td>\n",
       "      <td>Pinot Gris</td>\n",
       "    </tr>\n",
       "    <tr>\n",
       "      <td>3</td>\n",
       "      <td>US</td>\n",
       "      <td>87</td>\n",
       "      <td>13.0</td>\n",
       "      <td>Michigan</td>\n",
       "      <td>Riesling</td>\n",
       "    </tr>\n",
       "    <tr>\n",
       "      <td>4</td>\n",
       "      <td>US</td>\n",
       "      <td>87</td>\n",
       "      <td>65.0</td>\n",
       "      <td>Oregon</td>\n",
       "      <td>Pinot Noir</td>\n",
       "    </tr>\n",
       "    <tr>\n",
       "      <td>5</td>\n",
       "      <td>Spain</td>\n",
       "      <td>87</td>\n",
       "      <td>15.0</td>\n",
       "      <td>Northern Spain</td>\n",
       "      <td>Tempranillo-Merlot</td>\n",
       "    </tr>\n",
       "  </tbody>\n",
       "</table>\n",
       "</div>"
      ],
      "text/plain": [
       "    country  points  price        province             variety\n",
       "1  Portugal      87   15.0           Douro      Portuguese Red\n",
       "2        US      87   14.0          Oregon          Pinot Gris\n",
       "3        US      87   13.0        Michigan            Riesling\n",
       "4        US      87   65.0          Oregon          Pinot Noir\n",
       "5     Spain      87   15.0  Northern Spain  Tempranillo-Merlot"
      ]
     },
     "execution_count": 73,
     "metadata": {},
     "output_type": "execute_result"
    }
   ],
   "source": [
    "nodup_df.head()"
   ]
  },
  {
   "cell_type": "markdown",
   "metadata": {},
   "source": [
    "The mean price is 35.59. As you can see, the max price is nearly 100 times that, so using 3 standard deviations and basic logic of an affordable bottle of wine, we will cap the data at 200 dollars."
   ]
  },
  {
   "cell_type": "code",
   "execution_count": 74,
   "metadata": {},
   "outputs": [
    {
     "data": {
      "text/html": [
       "<div>\n",
       "<style scoped>\n",
       "    .dataframe tbody tr th:only-of-type {\n",
       "        vertical-align: middle;\n",
       "    }\n",
       "\n",
       "    .dataframe tbody tr th {\n",
       "        vertical-align: top;\n",
       "    }\n",
       "\n",
       "    .dataframe thead th {\n",
       "        text-align: right;\n",
       "    }\n",
       "</style>\n",
       "<table border=\"1\" class=\"dataframe\">\n",
       "  <thead>\n",
       "    <tr style=\"text-align: right;\">\n",
       "      <th></th>\n",
       "      <th>points</th>\n",
       "      <th>price</th>\n",
       "    </tr>\n",
       "  </thead>\n",
       "  <tbody>\n",
       "    <tr>\n",
       "      <td>count</td>\n",
       "      <td>110526.000000</td>\n",
       "      <td>110526.000000</td>\n",
       "    </tr>\n",
       "    <tr>\n",
       "      <td>mean</td>\n",
       "      <td>88.415803</td>\n",
       "      <td>35.592557</td>\n",
       "    </tr>\n",
       "    <tr>\n",
       "      <td>std</td>\n",
       "      <td>3.100570</td>\n",
       "      <td>41.904529</td>\n",
       "    </tr>\n",
       "    <tr>\n",
       "      <td>min</td>\n",
       "      <td>80.000000</td>\n",
       "      <td>4.000000</td>\n",
       "    </tr>\n",
       "    <tr>\n",
       "      <td>25%</td>\n",
       "      <td>86.000000</td>\n",
       "      <td>17.000000</td>\n",
       "    </tr>\n",
       "    <tr>\n",
       "      <td>50%</td>\n",
       "      <td>88.000000</td>\n",
       "      <td>25.000000</td>\n",
       "    </tr>\n",
       "    <tr>\n",
       "      <td>75%</td>\n",
       "      <td>91.000000</td>\n",
       "      <td>42.000000</td>\n",
       "    </tr>\n",
       "    <tr>\n",
       "      <td>max</td>\n",
       "      <td>100.000000</td>\n",
       "      <td>3300.000000</td>\n",
       "    </tr>\n",
       "  </tbody>\n",
       "</table>\n",
       "</div>"
      ],
      "text/plain": [
       "              points          price\n",
       "count  110526.000000  110526.000000\n",
       "mean       88.415803      35.592557\n",
       "std         3.100570      41.904529\n",
       "min        80.000000       4.000000\n",
       "25%        86.000000      17.000000\n",
       "50%        88.000000      25.000000\n",
       "75%        91.000000      42.000000\n",
       "max       100.000000    3300.000000"
      ]
     },
     "execution_count": 74,
     "metadata": {},
     "output_type": "execute_result"
    }
   ],
   "source": [
    "nodup_df.describe()"
   ]
  },
  {
   "cell_type": "code",
   "execution_count": 75,
   "metadata": {},
   "outputs": [],
   "source": [
    "clean_df = nodup_df.drop(nodup_df[nodup_df['price'] >= 200].index)"
   ]
  },
  {
   "cell_type": "markdown",
   "metadata": {},
   "source": [
    "After setting that parameter, we will check the data again to see if grouping can be done in order to shape the data to best fit general public's wine knowledge. "
   ]
  },
  {
   "cell_type": "code",
   "execution_count": 76,
   "metadata": {},
   "outputs": [
    {
     "data": {
      "text/plain": [
       "(109784, 5)"
      ]
     },
     "execution_count": 76,
     "metadata": {},
     "output_type": "execute_result"
    }
   ],
   "source": [
    "clean_df.shape"
   ]
  },
  {
   "cell_type": "code",
   "execution_count": 77,
   "metadata": {},
   "outputs": [
    {
     "data": {
      "text/html": [
       "<div>\n",
       "<style scoped>\n",
       "    .dataframe tbody tr th:only-of-type {\n",
       "        vertical-align: middle;\n",
       "    }\n",
       "\n",
       "    .dataframe tbody tr th {\n",
       "        vertical-align: top;\n",
       "    }\n",
       "\n",
       "    .dataframe thead th {\n",
       "        text-align: right;\n",
       "    }\n",
       "</style>\n",
       "<table border=\"1\" class=\"dataframe\">\n",
       "  <thead>\n",
       "    <tr style=\"text-align: right;\">\n",
       "      <th></th>\n",
       "      <th>country</th>\n",
       "      <th>points</th>\n",
       "      <th>price</th>\n",
       "      <th>province</th>\n",
       "      <th>variety</th>\n",
       "    </tr>\n",
       "  </thead>\n",
       "  <tbody>\n",
       "    <tr>\n",
       "      <td>1</td>\n",
       "      <td>Portugal</td>\n",
       "      <td>87</td>\n",
       "      <td>15.0</td>\n",
       "      <td>Douro</td>\n",
       "      <td>Portuguese Red</td>\n",
       "    </tr>\n",
       "    <tr>\n",
       "      <td>2</td>\n",
       "      <td>US</td>\n",
       "      <td>87</td>\n",
       "      <td>14.0</td>\n",
       "      <td>Oregon</td>\n",
       "      <td>Pinot Gris</td>\n",
       "    </tr>\n",
       "    <tr>\n",
       "      <td>3</td>\n",
       "      <td>US</td>\n",
       "      <td>87</td>\n",
       "      <td>13.0</td>\n",
       "      <td>Michigan</td>\n",
       "      <td>Riesling</td>\n",
       "    </tr>\n",
       "    <tr>\n",
       "      <td>4</td>\n",
       "      <td>US</td>\n",
       "      <td>87</td>\n",
       "      <td>65.0</td>\n",
       "      <td>Oregon</td>\n",
       "      <td>Pinot Noir</td>\n",
       "    </tr>\n",
       "    <tr>\n",
       "      <td>5</td>\n",
       "      <td>Spain</td>\n",
       "      <td>87</td>\n",
       "      <td>15.0</td>\n",
       "      <td>Northern Spain</td>\n",
       "      <td>Tempranillo-Merlot</td>\n",
       "    </tr>\n",
       "  </tbody>\n",
       "</table>\n",
       "</div>"
      ],
      "text/plain": [
       "    country  points  price        province             variety\n",
       "1  Portugal      87   15.0           Douro      Portuguese Red\n",
       "2        US      87   14.0          Oregon          Pinot Gris\n",
       "3        US      87   13.0        Michigan            Riesling\n",
       "4        US      87   65.0          Oregon          Pinot Noir\n",
       "5     Spain      87   15.0  Northern Spain  Tempranillo-Merlot"
      ]
     },
     "execution_count": 77,
     "metadata": {},
     "output_type": "execute_result"
    }
   ],
   "source": [
    "clean_df.head()"
   ]
  },
  {
   "cell_type": "markdown",
   "metadata": {},
   "source": [
    "Below, we see that we have 690 varitals. This creates a problem as we are attempting to keep our data focused on being presentable to those who do not have extensive knowledge. "
   ]
  },
  {
   "cell_type": "code",
   "execution_count": 78,
   "metadata": {},
   "outputs": [
    {
     "data": {
      "text/plain": [
       "42"
      ]
     },
     "metadata": {},
     "output_type": "display_data"
    },
    {
     "data": {
      "text/plain": [
       "690"
      ]
     },
     "metadata": {},
     "output_type": "display_data"
    },
    {
     "data": {
      "text/plain": [
       "422"
      ]
     },
     "metadata": {},
     "output_type": "display_data"
    }
   ],
   "source": [
    "display(len(set(clean_df.country)))\n",
    "display(len(set(clean_df.variety)))\n",
    "display(len(set(clean_df.province)))"
   ]
  },
  {
   "cell_type": "code",
   "execution_count": 79,
   "metadata": {},
   "outputs": [
    {
     "data": {
      "text/html": [
       "<div>\n",
       "<style scoped>\n",
       "    .dataframe tbody tr th:only-of-type {\n",
       "        vertical-align: middle;\n",
       "    }\n",
       "\n",
       "    .dataframe tbody tr th {\n",
       "        vertical-align: top;\n",
       "    }\n",
       "\n",
       "    .dataframe thead th {\n",
       "        text-align: right;\n",
       "    }\n",
       "</style>\n",
       "<table border=\"1\" class=\"dataframe\">\n",
       "  <thead>\n",
       "    <tr style=\"text-align: right;\">\n",
       "      <th></th>\n",
       "      <th>points</th>\n",
       "      <th>price</th>\n",
       "    </tr>\n",
       "  </thead>\n",
       "  <tbody>\n",
       "    <tr>\n",
       "      <td>count</td>\n",
       "      <td>109784.000000</td>\n",
       "      <td>109784.000000</td>\n",
       "    </tr>\n",
       "    <tr>\n",
       "      <td>mean</td>\n",
       "      <td>88.376312</td>\n",
       "      <td>33.421236</td>\n",
       "    </tr>\n",
       "    <tr>\n",
       "      <td>std</td>\n",
       "      <td>3.065954</td>\n",
       "      <td>24.591280</td>\n",
       "    </tr>\n",
       "    <tr>\n",
       "      <td>min</td>\n",
       "      <td>80.000000</td>\n",
       "      <td>4.000000</td>\n",
       "    </tr>\n",
       "    <tr>\n",
       "      <td>25%</td>\n",
       "      <td>86.000000</td>\n",
       "      <td>17.000000</td>\n",
       "    </tr>\n",
       "    <tr>\n",
       "      <td>50%</td>\n",
       "      <td>88.000000</td>\n",
       "      <td>25.000000</td>\n",
       "    </tr>\n",
       "    <tr>\n",
       "      <td>75%</td>\n",
       "      <td>91.000000</td>\n",
       "      <td>42.000000</td>\n",
       "    </tr>\n",
       "    <tr>\n",
       "      <td>max</td>\n",
       "      <td>100.000000</td>\n",
       "      <td>199.000000</td>\n",
       "    </tr>\n",
       "  </tbody>\n",
       "</table>\n",
       "</div>"
      ],
      "text/plain": [
       "              points          price\n",
       "count  109784.000000  109784.000000\n",
       "mean       88.376312      33.421236\n",
       "std         3.065954      24.591280\n",
       "min        80.000000       4.000000\n",
       "25%        86.000000      17.000000\n",
       "50%        88.000000      25.000000\n",
       "75%        91.000000      42.000000\n",
       "max       100.000000     199.000000"
      ]
     },
     "execution_count": 79,
     "metadata": {},
     "output_type": "execute_result"
    }
   ],
   "source": [
    "clean_df.describe()"
   ]
  },
  {
   "cell_type": "code",
   "execution_count": 80,
   "metadata": {},
   "outputs": [
    {
     "data": {
      "text/html": [
       "<div>\n",
       "<style scoped>\n",
       "    .dataframe tbody tr th:only-of-type {\n",
       "        vertical-align: middle;\n",
       "    }\n",
       "\n",
       "    .dataframe tbody tr th {\n",
       "        vertical-align: top;\n",
       "    }\n",
       "\n",
       "    .dataframe thead th {\n",
       "        text-align: right;\n",
       "    }\n",
       "</style>\n",
       "<table border=\"1\" class=\"dataframe\">\n",
       "  <thead>\n",
       "    <tr style=\"text-align: right;\">\n",
       "      <th></th>\n",
       "      <th>country</th>\n",
       "      <th>points</th>\n",
       "      <th>price</th>\n",
       "      <th>province</th>\n",
       "      <th>variety</th>\n",
       "    </tr>\n",
       "  </thead>\n",
       "  <tbody>\n",
       "    <tr>\n",
       "      <td>1</td>\n",
       "      <td>Portugal</td>\n",
       "      <td>87</td>\n",
       "      <td>15.0</td>\n",
       "      <td>Douro</td>\n",
       "      <td>Portuguese Red</td>\n",
       "    </tr>\n",
       "    <tr>\n",
       "      <td>2</td>\n",
       "      <td>US</td>\n",
       "      <td>87</td>\n",
       "      <td>14.0</td>\n",
       "      <td>Oregon</td>\n",
       "      <td>Pinot Gris</td>\n",
       "    </tr>\n",
       "    <tr>\n",
       "      <td>3</td>\n",
       "      <td>US</td>\n",
       "      <td>87</td>\n",
       "      <td>13.0</td>\n",
       "      <td>Michigan</td>\n",
       "      <td>Riesling</td>\n",
       "    </tr>\n",
       "    <tr>\n",
       "      <td>4</td>\n",
       "      <td>US</td>\n",
       "      <td>87</td>\n",
       "      <td>65.0</td>\n",
       "      <td>Oregon</td>\n",
       "      <td>Pinot Noir</td>\n",
       "    </tr>\n",
       "    <tr>\n",
       "      <td>5</td>\n",
       "      <td>Spain</td>\n",
       "      <td>87</td>\n",
       "      <td>15.0</td>\n",
       "      <td>Northern Spain</td>\n",
       "      <td>Tempranillo-Merlot</td>\n",
       "    </tr>\n",
       "  </tbody>\n",
       "</table>\n",
       "</div>"
      ],
      "text/plain": [
       "    country  points  price        province             variety\n",
       "1  Portugal      87   15.0           Douro      Portuguese Red\n",
       "2        US      87   14.0          Oregon          Pinot Gris\n",
       "3        US      87   13.0        Michigan            Riesling\n",
       "4        US      87   65.0          Oregon          Pinot Noir\n",
       "5     Spain      87   15.0  Northern Spain  Tempranillo-Merlot"
      ]
     },
     "execution_count": 80,
     "metadata": {},
     "output_type": "execute_result"
    }
   ],
   "source": [
    "clean_df.head()"
   ]
  },
  {
   "cell_type": "markdown",
   "metadata": {},
   "source": [
    "Here, we will group the dataframe by variety which appears at least 50 times. This number allows us to maintain the focus of the target audience, without sacrificing too much data. "
   ]
  },
  {
   "cell_type": "code",
   "execution_count": 35,
   "metadata": {},
   "outputs": [],
   "source": [
    "data = pd.DataFrame(clean_df).groupby('variety').filter(lambda x: len(x) >= 50)\n"
   ]
  },
  {
   "cell_type": "code",
   "execution_count": 36,
   "metadata": {},
   "outputs": [
    {
     "data": {
      "text/plain": [
       "(105076, 5)"
      ]
     },
     "execution_count": 36,
     "metadata": {},
     "output_type": "execute_result"
    }
   ],
   "source": [
    "data.shape"
   ]
  },
  {
   "cell_type": "code",
   "execution_count": 37,
   "metadata": {},
   "outputs": [
    {
     "data": {
      "text/plain": [
       "41"
      ]
     },
     "metadata": {},
     "output_type": "display_data"
    },
    {
     "data": {
      "text/plain": [
       "119"
      ]
     },
     "metadata": {},
     "output_type": "display_data"
    },
    {
     "data": {
      "text/plain": [
       "384"
      ]
     },
     "metadata": {},
     "output_type": "display_data"
    }
   ],
   "source": [
    "display(len(set(data.country)))\n",
    "display(len(set(data.variety)))\n",
    "display(len(set(data.province)))"
   ]
  },
  {
   "cell_type": "code",
   "execution_count": 38,
   "metadata": {},
   "outputs": [],
   "source": [
    "cle"
   ]
  },
  {
   "cell_type": "code",
   "execution_count": 39,
   "metadata": {},
   "outputs": [],
   "source": [
    "# plt.rcParams['figure.figsize']=20,10\n",
    "# sns.distplot(data['price'], bins=500, color='darkmagenta')\n",
    "# set_xlabel('price',fontsize=20)\n",
    "\n",
    "# #plt.savefig('Images_Graphs/EDA_wine_price_distribution_post_clean.png', transparent=True, dpi=150, bbox_inches='tight')"
   ]
  },
  {
   "cell_type": "code",
   "execution_count": 40,
   "metadata": {},
   "outputs": [],
   "source": [
    "# new_province = pd.DataFrame(data.province.value_counts())\n",
    "\n"
   ]
  },
  {
   "cell_type": "code",
   "execution_count": 41,
   "metadata": {},
   "outputs": [],
   "source": [
    "# new_varietal = pd.DataFrame(data.variety.value_counts())\n",
    "# new_varietal.nunique()"
   ]
  },
  {
   "cell_type": "code",
   "execution_count": 42,
   "metadata": {},
   "outputs": [],
   "source": [
    "# new_country = pd.DataFrame(data.country.value_counts())"
   ]
  },
  {
   "cell_type": "code",
   "execution_count": 43,
   "metadata": {},
   "outputs": [],
   "source": [
    "# barplot_dims = (20, 10)\n",
    "# fig, ax = plt.subplots(figsize = barplot_dims)\n",
    "# sns.barplot(x=new_province['province'].index, y=new_province['province'], ax=ax, color='darkmagenta')\n",
    "\n",
    "# plt.title(\"Histogram of Wine Provinces\")\n",
    "# plt.ylabel(\"Number of Instances\")\n",
    "# plt.xlabel(\"Provinces\")\n",
    "# plt.xticks(rotation=90)\n",
    "# plt.savefig('Images_Graphs/EDA_wine_provinces2.png', transparent=True, dpi=150, bbox_inches='tight')"
   ]
  },
  {
   "cell_type": "code",
   "execution_count": 44,
   "metadata": {},
   "outputs": [],
   "source": [
    "# barplot_dims = (20, 10)\n",
    "# fig, ax = plt.subplots(figsize = barplot_dims)\n",
    "# sns.barplot(x=new_varietal['variety'].index, y=new_varietal['variety'], ax=ax, color='darkmagenta')\n",
    "\n",
    "# plt.title(\"Histogram of Wine Provinces\")\n",
    "# plt.ylabel(\"Number of Instances\")\n",
    "# #plt.xlabel(\"Provinces\")\n",
    "# plt.xticks(rotation=90)\n",
    "# plt.savefig('Images_Graphs/EDA_wine_varietals_postclean.png', transparent=True, dpi=150, bbox_inches='tight')"
   ]
  },
  {
   "cell_type": "code",
   "execution_count": 45,
   "metadata": {},
   "outputs": [],
   "source": [
    "# barplot_dims = (20, 10)\n",
    "# fig, ax = plt.subplots(figsize = barplot_dims)\n",
    "# sns.barplot(x=new_country['country'].index, y=new_country['country'], ax=ax, color='darkmagenta')\n",
    "\n",
    "# plt.title(\"Histogram of Wine Provinces\")\n",
    "# plt.ylabel(\"Number of Instances\")\n",
    "# #plt.xlabel(\"Provinces\")\n",
    "# plt.xticks(rotation=90)\n",
    "# #plt.savefig('Images_Graphs/EDA_wine_provinces.png', transparent=True, dpi=150, bbox_inches='tight')"
   ]
  },
  {
   "cell_type": "code",
   "execution_count": 46,
   "metadata": {},
   "outputs": [
    {
     "data": {
      "text/plain": [
       "Index(['country', 'points', 'price', 'province', 'variety'], dtype='object')"
      ]
     },
     "execution_count": 46,
     "metadata": {},
     "output_type": "execute_result"
    }
   ],
   "source": [
    "data.columns"
   ]
  },
  {
   "cell_type": "code",
   "execution_count": null,
   "metadata": {},
   "outputs": [],
   "source": []
  },
  {
   "cell_type": "code",
   "execution_count": 47,
   "metadata": {},
   "outputs": [
    {
     "data": {
      "text/plain": [
       "(105076, 5)"
      ]
     },
     "execution_count": 47,
     "metadata": {},
     "output_type": "execute_result"
    }
   ],
   "source": [
    "data.shape"
   ]
  },
  {
   "cell_type": "code",
   "execution_count": 48,
   "metadata": {},
   "outputs": [],
   "source": [
    "y = data['points']"
   ]
  },
  {
   "cell_type": "code",
   "execution_count": 49,
   "metadata": {},
   "outputs": [],
   "source": [
    "X, X_test, y_train, y_test = train_test_split(data, y, test_size= 0.20, random_state=42)"
   ]
  },
  {
   "cell_type": "code",
   "execution_count": 50,
   "metadata": {},
   "outputs": [
    {
     "data": {
      "text/plain": [
       "(84060, 5)"
      ]
     },
     "metadata": {},
     "output_type": "display_data"
    },
    {
     "data": {
      "text/plain": [
       "(84060,)"
      ]
     },
     "metadata": {},
     "output_type": "display_data"
    },
    {
     "data": {
      "text/plain": [
       "(21016,)"
      ]
     },
     "metadata": {},
     "output_type": "display_data"
    },
    {
     "data": {
      "text/plain": [
       "(21016, 5)"
      ]
     },
     "metadata": {},
     "output_type": "display_data"
    }
   ],
   "source": [
    "display(X.shape)\n",
    "display(y_train.shape)\n",
    "display(y_test.shape)\n",
    "display(X_test.shape)"
   ]
  },
  {
   "cell_type": "code",
   "execution_count": 51,
   "metadata": {},
   "outputs": [],
   "source": [
    "def prep_data_country(X, X_test, y_train, y_test):\n",
    "    X = X.drop(['province', 'variety', 'price', 'points'], axis = 1)\n",
    "    X_test = X_test.drop(['province', 'variety', 'price', 'points'], axis = 1)\n",
    "    y1_train = y_train.astype(float)\n",
    "    y1_test = y_test.astype(float)\n",
    "    categorical_variables = X.select_dtypes(include=['object']).columns\n",
    "    numerical_variables = X.select_dtypes(include = ['int64', 'float64']).columns\n",
    "    X_test_cat_var = X_test.select_dtypes(include=['object']).columns\n",
    "    X_test_num_var = X_test.select_dtypes(include = ['int64', 'float64']).columns\n",
    "    ohe = OneHotEncoder(handle_unknown='ignore')\n",
    "    X_categ = ohe.fit_transform(X[categorical_variables], ).toarray()\n",
    "    X_num = X[numerical_variables].values\n",
    "    X1 = np.concatenate((X_categ, X_num), axis=1)\n",
    "    X_test_categ = ohe.transform(X_test[X_test_cat_var]).toarray()\n",
    "    X_test_num = X_test[X_test_num_var].values\n",
    "    X1_test = np.concatenate((X_test_categ, X_test_num), axis=1)\n",
    "    return X1, X1_test, y1_train, y1_test"
   ]
  },
  {
   "cell_type": "code",
   "execution_count": 52,
   "metadata": {},
   "outputs": [],
   "source": [
    "def prep_data_province(X, X_test, y_train, y_test):\n",
    "    X = X.drop(['country', 'variety', 'price'], axis = 1)\n",
    "    X_test = X_test.drop(['country', 'variety', 'price'], axis = 1)\n",
    "    y2_train = y_train.astype(float)\n",
    "    y2_test = y_test.astype(float)\n",
    "    categorical_variables = X.select_dtypes(include=['object']).columns\n",
    "    numerical_variables = X.select_dtypes(include = ['int64', 'float64']).columns\n",
    "    X_test_cat_var = X_test.select_dtypes(include=['object']).columns\n",
    "    X_test_num_var = X_test.select_dtypes(include = ['int64', 'float64']).columns\n",
    "    ohe = OneHotEncoder(handle_unknown='ignore')\n",
    "    X_categ = ohe.fit_transform(X[categorical_variables], ).toarray()\n",
    "    X_num = X[numerical_variables].values\n",
    "    X2 = np.concatenate((X_categ, X_num), axis=1)\n",
    "    X_test_categ = ohe.transform(X_test[X_test_cat_var]).toarray()\n",
    "    X_test_num = X_test[X_test_num_var].values\n",
    "    X2_test = np.concatenate((X_test_categ, X_test_num), axis=1)\n",
    "    return X2, X2_test, y2_train, y2_test"
   ]
  },
  {
   "cell_type": "code",
   "execution_count": 53,
   "metadata": {},
   "outputs": [
    {
     "data": {
      "text/html": [
       "<div>\n",
       "<style scoped>\n",
       "    .dataframe tbody tr th:only-of-type {\n",
       "        vertical-align: middle;\n",
       "    }\n",
       "\n",
       "    .dataframe tbody tr th {\n",
       "        vertical-align: top;\n",
       "    }\n",
       "\n",
       "    .dataframe thead th {\n",
       "        text-align: right;\n",
       "    }\n",
       "</style>\n",
       "<table border=\"1\" class=\"dataframe\">\n",
       "  <thead>\n",
       "    <tr style=\"text-align: right;\">\n",
       "      <th></th>\n",
       "      <th>country</th>\n",
       "      <th>points</th>\n",
       "      <th>price</th>\n",
       "      <th>province</th>\n",
       "      <th>variety</th>\n",
       "    </tr>\n",
       "  </thead>\n",
       "  <tbody>\n",
       "    <tr>\n",
       "      <td>8297</td>\n",
       "      <td>US</td>\n",
       "      <td>92</td>\n",
       "      <td>35.0</td>\n",
       "      <td>California</td>\n",
       "      <td>Zinfandel</td>\n",
       "    </tr>\n",
       "    <tr>\n",
       "      <td>56055</td>\n",
       "      <td>US</td>\n",
       "      <td>88</td>\n",
       "      <td>18.0</td>\n",
       "      <td>California</td>\n",
       "      <td>Sauvignon Blanc</td>\n",
       "    </tr>\n",
       "    <tr>\n",
       "      <td>36602</td>\n",
       "      <td>US</td>\n",
       "      <td>92</td>\n",
       "      <td>50.0</td>\n",
       "      <td>California</td>\n",
       "      <td>Red Blend</td>\n",
       "    </tr>\n",
       "    <tr>\n",
       "      <td>122515</td>\n",
       "      <td>Austria</td>\n",
       "      <td>95</td>\n",
       "      <td>89.0</td>\n",
       "      <td>Wachau</td>\n",
       "      <td>Grüner Veltliner</td>\n",
       "    </tr>\n",
       "    <tr>\n",
       "      <td>63275</td>\n",
       "      <td>US</td>\n",
       "      <td>88</td>\n",
       "      <td>28.0</td>\n",
       "      <td>California</td>\n",
       "      <td>Pinot Gris</td>\n",
       "    </tr>\n",
       "    <tr>\n",
       "      <td>...</td>\n",
       "      <td>...</td>\n",
       "      <td>...</td>\n",
       "      <td>...</td>\n",
       "      <td>...</td>\n",
       "      <td>...</td>\n",
       "    </tr>\n",
       "    <tr>\n",
       "      <td>65179</td>\n",
       "      <td>US</td>\n",
       "      <td>88</td>\n",
       "      <td>25.0</td>\n",
       "      <td>California</td>\n",
       "      <td>Pinot Noir</td>\n",
       "    </tr>\n",
       "    <tr>\n",
       "      <td>92823</td>\n",
       "      <td>US</td>\n",
       "      <td>85</td>\n",
       "      <td>20.0</td>\n",
       "      <td>California</td>\n",
       "      <td>Sauvignon Blanc</td>\n",
       "    </tr>\n",
       "    <tr>\n",
       "      <td>128026</td>\n",
       "      <td>Italy</td>\n",
       "      <td>89</td>\n",
       "      <td>34.0</td>\n",
       "      <td>Tuscany</td>\n",
       "      <td>Red Blend</td>\n",
       "    </tr>\n",
       "    <tr>\n",
       "      <td>976</td>\n",
       "      <td>US</td>\n",
       "      <td>85</td>\n",
       "      <td>17.0</td>\n",
       "      <td>California</td>\n",
       "      <td>White Blend</td>\n",
       "    </tr>\n",
       "    <tr>\n",
       "      <td>18057</td>\n",
       "      <td>France</td>\n",
       "      <td>90</td>\n",
       "      <td>80.0</td>\n",
       "      <td>Burgundy</td>\n",
       "      <td>Pinot Noir</td>\n",
       "    </tr>\n",
       "  </tbody>\n",
       "</table>\n",
       "<p>84060 rows × 5 columns</p>\n",
       "</div>"
      ],
      "text/plain": [
       "        country  points  price    province           variety\n",
       "8297         US      92   35.0  California         Zinfandel\n",
       "56055        US      88   18.0  California   Sauvignon Blanc\n",
       "36602        US      92   50.0  California         Red Blend\n",
       "122515  Austria      95   89.0      Wachau  Grüner Veltliner\n",
       "63275        US      88   28.0  California        Pinot Gris\n",
       "...         ...     ...    ...         ...               ...\n",
       "65179        US      88   25.0  California        Pinot Noir\n",
       "92823        US      85   20.0  California   Sauvignon Blanc\n",
       "128026    Italy      89   34.0     Tuscany         Red Blend\n",
       "976          US      85   17.0  California       White Blend\n",
       "18057    France      90   80.0    Burgundy        Pinot Noir\n",
       "\n",
       "[84060 rows x 5 columns]"
      ]
     },
     "execution_count": 53,
     "metadata": {},
     "output_type": "execute_result"
    }
   ],
   "source": [
    "X"
   ]
  },
  {
   "cell_type": "code",
   "execution_count": 54,
   "metadata": {},
   "outputs": [],
   "source": [
    "def prep_data_variety(X, X_test, y_train, y_test):\n",
    "    X = X.drop(['country', 'province', 'price'], axis = 1)\n",
    "    X_test = X_test.drop(['country', 'province', 'price'], axis = 1)\n",
    "    y3_train = y_train.astype(float)\n",
    "    y3_test = y_test.astype(float)\n",
    "    categorical_variables = X.select_dtypes(include=['object']).columns\n",
    "    numerical_variables = X.select_dtypes(include = ['int64', 'float64']).columns\n",
    "    X_test_cat_var = X_test.select_dtypes(include=['object']).columns\n",
    "    X_test_num_var = X_test.select_dtypes(include = ['int64', 'float64']).columns\n",
    "    ohe = OneHotEncoder(handle_unknown='ignore')\n",
    "    X_categ = ohe.fit_transform(X[categorical_variables], ).toarray()\n",
    "    X_num = X[numerical_variables].values\n",
    "    X3 = np.concatenate((X_categ, X_num), axis=1)\n",
    "    X_test_categ = ohe.transform(X_test[X_test_cat_var]).toarray()\n",
    "    X_test_num = X_test[X_test_num_var].values\n",
    "    X3_test = np.concatenate((X_test_categ, X_test_num), axis=1)\n",
    "    return X3, X3_test, y3_train, y3_test\n"
   ]
  },
  {
   "cell_type": "code",
   "execution_count": 55,
   "metadata": {},
   "outputs": [],
   "source": [
    "def prep_data_price(X, X_test, y_train, y_test):\n",
    "    X = X.drop(['country', 'province', 'variety'], axis = 1)\n",
    "    X_test = X_test.drop(['country', 'province', 'variety'], axis = 1)\n",
    "    y4_train = y_train.astype(float)\n",
    "    y4_test = y_test.astype(float)\n",
    "    categorical_variables = X.select_dtypes(include=['object']).columns\n",
    "    numerical_variables = X.select_dtypes(include = ['int64', 'float64']).columns\n",
    "    X_test_cat_var = X_test.select_dtypes(include=['object']).columns\n",
    "    X_test_num_var = X_test.select_dtypes(include = ['int64', 'float64']).columns\n",
    "    ohe = OneHotEncoder(handle_unknown='ignore')\n",
    "    X_categ = ohe.fit_transform(X[categorical_variables], ).toarray()\n",
    "    X_num = X[numerical_variables].values\n",
    "    X4 = np.concatenate((X_categ, X_num), axis=1)\n",
    "    X_test_categ = ohe.transform(X_test[X_test_cat_var]).toarray()\n",
    "    X_test_num = X_test[X_test_num_var].values\n",
    "    X4_test = np.concatenate((X_test_categ, X_test_num), axis=1)\n",
    "    return X4, X4_test, y4_train, y4_test\n"
   ]
  },
  {
   "cell_type": "code",
   "execution_count": 56,
   "metadata": {},
   "outputs": [],
   "source": [
    "def prep_data_price_variety(X, X_test, y_train, y_test):\n",
    "    X = X.drop(['province', 'country'], axis = 1)\n",
    "    X_test = X_test.drop(['province', 'country'], axis = 1)\n",
    "    y5_train = y_train.astype(float)\n",
    "    y5_test = y_test.astype(float)\n",
    "    categorical_variables = X.select_dtypes(include=['object']).columns\n",
    "    numerical_variables = X.select_dtypes(include = ['int64', 'float64']).columns\n",
    "    X_test_cat_var = X_test.select_dtypes(include=['object']).columns\n",
    "    X_test_num_var = X_test.select_dtypes(include = ['int64', 'float64']).columns\n",
    "    ohe = OneHotEncoder(handle_unknown='ignore')\n",
    "    X_categ = ohe.fit_transform(X[categorical_variables], ).toarray()\n",
    "    X_num = X[numerical_variables].values\n",
    "    X5 = np.concatenate((X_categ, X_num), axis=1)\n",
    "    X_test_categ = ohe.transform(X_test[X_test_cat_var]).toarray()\n",
    "    X_test_num = X_test[X_test_num_var].values\n",
    "    X5_test = np.concatenate((X_test_categ, X_test_num), axis=1)\n",
    "    return X5, X5_test, y5_train, y5_test\n"
   ]
  },
  {
   "cell_type": "code",
   "execution_count": 57,
   "metadata": {},
   "outputs": [],
   "source": [
    "def prep_data_price_country(X, X_test, y_train, y_test):\n",
    "    X = X.drop(['province', 'variety'], axis = 1)\n",
    "    X_test = X_test.drop(['province', 'variety'], axis = 1)\n",
    "    y6_train = y_train.astype(float)\n",
    "    y6_test = y_test.astype(float)\n",
    "    categorical_variables = X.select_dtypes(include=['object']).columns\n",
    "    numerical_variables = X.select_dtypes(include = ['int64', 'float64']).columns\n",
    "    X_test_cat_var = X_test.select_dtypes(include=['object']).columns\n",
    "    X_test_num_var = X_test.select_dtypes(include = ['int64', 'float64']).columns\n",
    "    ohe = OneHotEncoder(handle_unknown='ignore')\n",
    "    X_categ = ohe.fit_transform(X[categorical_variables], ).toarray()\n",
    "    X_num = X[numerical_variables].values\n",
    "    X6 = np.concatenate((X_categ, X_num), axis=1)\n",
    "    X_test_categ = ohe.transform(X_test[X_test_cat_var]).toarray()\n",
    "    X_test_num = X_test[X_test_num_var].values\n",
    "    X6_test = np.concatenate((X_test_categ, X_test_num), axis=1)\n",
    "    return X6, X6_test, y6_train, y6_test\n"
   ]
  },
  {
   "cell_type": "code",
   "execution_count": 58,
   "metadata": {},
   "outputs": [],
   "source": [
    "def prep_data_price_province(X, X_test, y_train, y_test):\n",
    "    X = X.drop(['country', 'variety'], axis = 1)\n",
    "    X_test = X_test.drop(['country', 'variety'], axis = 1)\n",
    "    y7_train = y_train.astype(float)\n",
    "    y7_test = y_test.astype(float)\n",
    "    categorical_variables = X.select_dtypes(include=['object']).columns\n",
    "    numerical_variables = X.select_dtypes(include = ['int64', 'float64']).columns\n",
    "    X_test_cat_var = X_test.select_dtypes(include=['object']).columns\n",
    "    X_test_num_var = X_test.select_dtypes(include = ['int64', 'float64']).columns\n",
    "    ohe = OneHotEncoder(handle_unknown='ignore')\n",
    "    X_categ = ohe.fit_transform(X[categorical_variables], ).toarray()\n",
    "    X_num = X[numerical_variables].values\n",
    "    X7 = np.concatenate((X_categ, X_num), axis=1)\n",
    "    X_test_categ = ohe.transform(X_test[X_test_cat_var]).toarray()\n",
    "    X_test_num = X_test[X_test_num_var].values\n",
    "    X7_test = np.concatenate((X_test_categ, X_test_num), axis=1)\n",
    "    return X7, X7_test, y7_train, y7_test\n"
   ]
  },
  {
   "cell_type": "code",
   "execution_count": 59,
   "metadata": {},
   "outputs": [],
   "source": [
    "def prep_data_price_province_variety(X, X_test, y_train, y_test):\n",
    "    X = X.drop(['country'], axis = 1)\n",
    "    X_test = X_test.drop(['country'], axis = 1)\n",
    "    y8_train = y_train.astype(float)\n",
    "    y8_test = y_test.astype(float)\n",
    "    categorical_variables = X.select_dtypes(include=['object']).columns\n",
    "    numerical_variables = X.select_dtypes(include = ['int64', 'float64']).columns\n",
    "    X_test_cat_var = X_test.select_dtypes(include=['object']).columns\n",
    "    X_test_num_var = X_test.select_dtypes(include = ['int64', 'float64']).columns\n",
    "    ohe = OneHotEncoder(handle_unknown='ignore')\n",
    "    X_categ = ohe.fit_transform(X[categorical_variables], ).toarray()\n",
    "    X_num = X[numerical_variables].values\n",
    "    X8 = np.concatenate((X_categ, X_num), axis=1)\n",
    "    X_test_categ = ohe.transform(X_test[X_test_cat_var]).toarray()\n",
    "    X_test_num = X_test[X_test_num_var].values\n",
    "    X8_test = np.concatenate((X_test_categ, X_test_num), axis=1)\n",
    "    return X8, X8_test, y8_train, y8_test\n"
   ]
  },
  {
   "cell_type": "code",
   "execution_count": 60,
   "metadata": {},
   "outputs": [],
   "source": [
    "def prep_data_price_country_variety(X, X_test, y_train, y_test):\n",
    "    X = X.drop(['province'], axis = 1)\n",
    "    X_test = X_test.drop(['province'], axis = 1)\n",
    "    y9_train = y_train.astype(float)\n",
    "    y9_test = y_test.astype(float)\n",
    "    categorical_variables = X.select_dtypes(include=['object']).columns\n",
    "    numerical_variables = X.select_dtypes(include = ['int64', 'float64']).columns\n",
    "    X_test_cat_var = X_test.select_dtypes(include=['object']).columns\n",
    "    X_test_num_var = X_test.select_dtypes(include = ['int64', 'float64']).columns\n",
    "    ohe = OneHotEncoder(handle_unknown='ignore')\n",
    "    X_categ = ohe.fit_transform(X[categorical_variables], ).toarray()\n",
    "    X_num = X[numerical_variables].values\n",
    "    X9 = np.concatenate((X_categ, X_num), axis=1)\n",
    "    X_test_categ = ohe.transform(X_test[X_test_cat_var]).toarray()\n",
    "    X_test_num = X_test[X_test_num_var].values\n",
    "    X9_test = np.concatenate((X_test_categ, X_test_num), axis=1)\n",
    "    return X9, X9_test, y9_train, y9_test\n"
   ]
  },
  {
   "cell_type": "code",
   "execution_count": 59,
   "metadata": {},
   "outputs": [],
   "source": [
    "X1, X1_test, y1_train, y1_test = prep_data_country(X, X_test, y_train, y_test)"
   ]
  },
  {
   "cell_type": "code",
   "execution_count": null,
   "metadata": {},
   "outputs": [],
   "source": []
  },
  {
   "cell_type": "code",
   "execution_count": 60,
   "metadata": {},
   "outputs": [],
   "source": [
    "X2, X2_test, y2_train, y2_test = prep_data_province(X, X_test, y_train, y_test);"
   ]
  },
  {
   "cell_type": "code",
   "execution_count": 61,
   "metadata": {},
   "outputs": [
    {
     "data": {
      "text/plain": [
       "array([[ 0.,  0.,  0., ...,  0.,  0., 92.],\n",
       "       [ 0.,  0.,  0., ...,  0.,  0., 88.],\n",
       "       [ 0.,  0.,  0., ...,  0.,  0., 92.],\n",
       "       ...,\n",
       "       [ 0.,  0.,  0., ...,  0.,  0., 89.],\n",
       "       [ 0.,  0.,  0., ...,  0.,  0., 85.],\n",
       "       [ 0.,  0.,  0., ...,  0.,  0., 90.]])"
      ]
     },
     "execution_count": 61,
     "metadata": {},
     "output_type": "execute_result"
    }
   ],
   "source": [
    "X2"
   ]
  },
  {
   "cell_type": "code",
   "execution_count": 62,
   "metadata": {},
   "outputs": [],
   "source": [
    "X3, X3_test, y3_train, y3_test = prep_data_variety(X, X_test, y_train, y_test);"
   ]
  },
  {
   "cell_type": "code",
   "execution_count": 63,
   "metadata": {},
   "outputs": [
    {
     "data": {
      "text/plain": [
       "array([[ 0.,  0.,  0., ...,  1.,  0., 92.],\n",
       "       [ 0.,  0.,  0., ...,  0.,  0., 88.],\n",
       "       [ 0.,  0.,  0., ...,  0.,  0., 92.],\n",
       "       ...,\n",
       "       [ 0.,  0.,  0., ...,  0.,  0., 89.],\n",
       "       [ 0.,  0.,  0., ...,  0.,  0., 85.],\n",
       "       [ 0.,  0.,  0., ...,  0.,  0., 90.]])"
      ]
     },
     "execution_count": 63,
     "metadata": {},
     "output_type": "execute_result"
    }
   ],
   "source": [
    "X3"
   ]
  },
  {
   "cell_type": "code",
   "execution_count": 64,
   "metadata": {},
   "outputs": [],
   "source": [
    "X4, X4_test, y4_train, y4_test = prep_data_price(X, X_test, y_train, y_test);"
   ]
  },
  {
   "cell_type": "code",
   "execution_count": 65,
   "metadata": {},
   "outputs": [
    {
     "data": {
      "text/plain": [
       "array([[92., 35.],\n",
       "       [88., 18.],\n",
       "       [92., 50.],\n",
       "       ...,\n",
       "       [89., 34.],\n",
       "       [85., 17.],\n",
       "       [90., 80.]])"
      ]
     },
     "execution_count": 65,
     "metadata": {},
     "output_type": "execute_result"
    }
   ],
   "source": [
    "X4"
   ]
  },
  {
   "cell_type": "code",
   "execution_count": 66,
   "metadata": {},
   "outputs": [],
   "source": [
    "X5, X5_test, y5_train, y5_test = prep_data_price_variety(X, X_test, y_train, y_test);"
   ]
  },
  {
   "cell_type": "code",
   "execution_count": 67,
   "metadata": {},
   "outputs": [],
   "source": [
    "X6, X6_test, y6_train, y6_test = prep_data_price_country(X, X_test, y_train, y_test);"
   ]
  },
  {
   "cell_type": "code",
   "execution_count": 68,
   "metadata": {},
   "outputs": [],
   "source": [
    "X7, X7_test, y7_train, y7_test = prep_data_price_province(X, X_test, y_train, y_test);"
   ]
  },
  {
   "cell_type": "code",
   "execution_count": 69,
   "metadata": {},
   "outputs": [],
   "source": [
    "X8, X8_test, y8_train, y8_test = prep_data_price_province_variety(X, X_test, y_train, y_test);"
   ]
  },
  {
   "cell_type": "code",
   "execution_count": 70,
   "metadata": {},
   "outputs": [],
   "source": [
    "X9, X9_test, y9_train, y9_test = prep_data_price_country_variety(X, X_test, y_train, y_test);"
   ]
  },
  {
   "cell_type": "code",
   "execution_count": 71,
   "metadata": {},
   "outputs": [],
   "source": [
    "def try_linear_models(X, X_test, y_train, y_test):\n",
    "    model = linear_model.Ridge(alpha = 0.1).fit(X, y_train)\n",
    "    predictions = model.predict(X_test)\n",
    "    return predictions"
   ]
  },
  {
   "cell_type": "code",
   "execution_count": 72,
   "metadata": {},
   "outputs": [],
   "source": [
    "def error_metrics(predictions, y_test):\n",
    "    # The mean squared error\n",
    "    print(\"--Mean squared error: %.2f\" % mean_squared_error(y_test, predictions))\n",
    "    # Explained variance score: 1 is perfect prediction\n",
    "    print('--Variance score: %.2f' % r2_score(y_test, predictions))"
   ]
  },
  {
   "cell_type": "code",
   "execution_count": 73,
   "metadata": {},
   "outputs": [],
   "source": [
    "def inspect_df(predictions, y_test):\n",
    "    true_vs_pred = np.vstack((predictions, y_test))\n",
    "    true_df = pd.DataFrame(true_vs_pred)\n",
    "    true_df = true_df.transpose()\n",
    "    true_df.columns = [\"Predicted\", \"Actual\"]\n",
    "    return true_df.head()"
   ]
  },
  {
   "cell_type": "markdown",
   "metadata": {},
   "source": [
    "MODELING FINALLY!"
   ]
  },
  {
   "cell_type": "code",
   "execution_count": 74,
   "metadata": {},
   "outputs": [],
   "source": [
    "model_1_pred = try_linear_models(X1, X1_test, y1_train, y1_test)"
   ]
  },
  {
   "cell_type": "code",
   "execution_count": 75,
   "metadata": {},
   "outputs": [
    {
     "name": "stdout",
     "output_type": "stream",
     "text": [
      "--Mean squared error: 8.98\n",
      "--Variance score: 0.05\n"
     ]
    }
   ],
   "source": [
    "error_metrics(model_1_pred, y1_test)"
   ]
  },
  {
   "cell_type": "code",
   "execution_count": 76,
   "metadata": {},
   "outputs": [
    {
     "data": {
      "text/html": [
       "<div>\n",
       "<style scoped>\n",
       "    .dataframe tbody tr th:only-of-type {\n",
       "        vertical-align: middle;\n",
       "    }\n",
       "\n",
       "    .dataframe tbody tr th {\n",
       "        vertical-align: top;\n",
       "    }\n",
       "\n",
       "    .dataframe thead th {\n",
       "        text-align: right;\n",
       "    }\n",
       "</style>\n",
       "<table border=\"1\" class=\"dataframe\">\n",
       "  <thead>\n",
       "    <tr style=\"text-align: right;\">\n",
       "      <th></th>\n",
       "      <th>Predicted</th>\n",
       "      <th>Actual</th>\n",
       "    </tr>\n",
       "  </thead>\n",
       "  <tbody>\n",
       "    <tr>\n",
       "      <td>0</td>\n",
       "      <td>88.640679</td>\n",
       "      <td>92.0</td>\n",
       "    </tr>\n",
       "    <tr>\n",
       "      <td>1</td>\n",
       "      <td>88.557062</td>\n",
       "      <td>88.0</td>\n",
       "    </tr>\n",
       "    <tr>\n",
       "      <td>2</td>\n",
       "      <td>88.640679</td>\n",
       "      <td>84.0</td>\n",
       "    </tr>\n",
       "    <tr>\n",
       "      <td>3</td>\n",
       "      <td>87.270881</td>\n",
       "      <td>84.0</td>\n",
       "    </tr>\n",
       "    <tr>\n",
       "      <td>4</td>\n",
       "      <td>87.856816</td>\n",
       "      <td>86.0</td>\n",
       "    </tr>\n",
       "  </tbody>\n",
       "</table>\n",
       "</div>"
      ],
      "text/plain": [
       "   Predicted  Actual\n",
       "0  88.640679    92.0\n",
       "1  88.557062    88.0\n",
       "2  88.640679    84.0\n",
       "3  87.270881    84.0\n",
       "4  87.856816    86.0"
      ]
     },
     "execution_count": 76,
     "metadata": {},
     "output_type": "execute_result"
    }
   ],
   "source": [
    "country_vs_points = inspect_df(model_1_pred, y1_test)\n",
    "country_vs_points.head()"
   ]
  },
  {
   "cell_type": "code",
   "execution_count": 77,
   "metadata": {},
   "outputs": [
    {
     "data": {
      "text/plain": [
       "<matplotlib.axes._subplots.AxesSubplot at 0x1a237fc5f8>"
      ]
     },
     "execution_count": 77,
     "metadata": {},
     "output_type": "execute_result"
    },
    {
     "data": {
      "image/png": "[encoded data removed]",
      "text/plain": [
       "<Figure size 432x288 with 1 Axes>"
      ]
     },
     "metadata": {
      "needs_background": "light"
     },
     "output_type": "display_data"
    }
   ],
   "source": [
    "sns.regplot(x='Predicted', y='Actual', data=country_vs_points, color='darkmagenta')"
   ]
  },
  {
   "cell_type": "code",
   "execution_count": null,
   "metadata": {},
   "outputs": [],
   "source": [
    "X2"
   ]
  },
  {
   "cell_type": "code",
   "execution_count": null,
   "metadata": {},
   "outputs": [],
   "source": [
    "model_2_pred = try_linear_models(X2, X2_test, y2_train, y2_test);"
   ]
  },
  {
   "cell_type": "code",
   "execution_count": null,
   "metadata": {},
   "outputs": [],
   "source": [
    "model_2_pred"
   ]
  },
  {
   "cell_type": "code",
   "execution_count": null,
   "metadata": {},
   "outputs": [],
   "source": [
    "error_metrics(model_2_pred, y2_test)"
   ]
  },
  {
   "cell_type": "code",
   "execution_count": null,
   "metadata": {},
   "outputs": [],
   "source": [
    "province_vs_points = inspect_df(model_2_pred, y2_test)\n",
    "province_vs_points.head()"
   ]
  },
  {
   "cell_type": "code",
   "execution_count": null,
   "metadata": {},
   "outputs": [],
   "source": [
    "sns.regplot(x='Predicted', y='Actual', data=province_vs_points, color='darkmagenta')"
   ]
  },
  {
   "cell_type": "code",
   "execution_count": null,
   "metadata": {},
   "outputs": [],
   "source": [
    "X3, X3_test, y3_train, y3_test = prep_data_variety(X, X_test, y_train, y_test);"
   ]
  },
  {
   "cell_type": "code",
   "execution_count": null,
   "metadata": {},
   "outputs": [],
   "source": [
    "model_3_pred = try_linear_models(X3, X3_test, y3_train, y3_test);"
   ]
  },
  {
   "cell_type": "code",
   "execution_count": null,
   "metadata": {},
   "outputs": [],
   "source": [
    "model_3_pred"
   ]
  },
  {
   "cell_type": "code",
   "execution_count": null,
   "metadata": {},
   "outputs": [],
   "source": [
    "error_metrics(model_3_pred, y3_test)"
   ]
  },
  {
   "cell_type": "code",
   "execution_count": null,
   "metadata": {},
   "outputs": [],
   "source": [
    "variety_vs_points = inspect_df(model_3_pred, y3_test)\n",
    "variety_vs_points.head()"
   ]
  },
  {
   "cell_type": "code",
   "execution_count": null,
   "metadata": {},
   "outputs": [],
   "source": [
    "sns.regplot(x='Predicted', y='Actual', data=variety_vs_points, color='darkmagenta')"
   ]
  },
  {
   "cell_type": "code",
   "execution_count": null,
   "metadata": {},
   "outputs": [],
   "source": [
    "X4, X4_test, y4_train, y4_test = prep_data_price(X, X_test, y_train, y_test);"
   ]
  },
  {
   "cell_type": "code",
   "execution_count": null,
   "metadata": {},
   "outputs": [],
   "source": [
    "model_4_pred = try_linear_models(X4, X4_test, y4_train, y4_test);"
   ]
  },
  {
   "cell_type": "code",
   "execution_count": null,
   "metadata": {},
   "outputs": [],
   "source": [
    "error_metrics(model_4_pred, y4_test)"
   ]
  },
  {
   "cell_type": "code",
   "execution_count": null,
   "metadata": {},
   "outputs": [],
   "source": [
    "price_vs_points = inspect_df(model_2_pred, y2_test)\n",
    "price_vs_points.head()"
   ]
  },
  {
   "cell_type": "code",
   "execution_count": null,
   "metadata": {},
   "outputs": [],
   "source": [
    "sns.regplot(x='Predicted', y='Actual', data=price_vs_points, color='darkmagenta')"
   ]
  },
  {
   "cell_type": "code",
   "execution_count": null,
   "metadata": {},
   "outputs": [],
   "source": []
  },
  {
   "cell_type": "code",
   "execution_count": null,
   "metadata": {},
   "outputs": [],
   "source": [
    "X5, X5_test, y5_train, y5_test = prep_data_price_variety(X, X_test, y_train, y_test);"
   ]
  },
  {
   "cell_type": "code",
   "execution_count": null,
   "metadata": {},
   "outputs": [],
   "source": [
    "model_5_pred = try_linear_models(X5, X5_test, y5_train, y5_test);"
   ]
  },
  {
   "cell_type": "code",
   "execution_count": null,
   "metadata": {},
   "outputs": [],
   "source": [
    "error_metrics(model_5_pred, y5_test)"
   ]
  },
  {
   "cell_type": "code",
   "execution_count": null,
   "metadata": {},
   "outputs": [],
   "source": [
    "price_variety_vs_points = inspect_df(model_2_pred, y2_test)\n",
    "price_variety_vs_points.head()"
   ]
  },
  {
   "cell_type": "code",
   "execution_count": null,
   "metadata": {},
   "outputs": [],
   "source": [
    "sns.regplot(x='Predicted', y='Actual', data=price_variety_vs_points, color='darkmagenta')"
   ]
  },
  {
   "cell_type": "code",
   "execution_count": null,
   "metadata": {},
   "outputs": [],
   "source": []
  },
  {
   "cell_type": "code",
   "execution_count": null,
   "metadata": {},
   "outputs": [],
   "source": [
    "X6, X6_test, y6_train, y6_test = prep_data_price_country(X, X_test, y_train, y_test);"
   ]
  },
  {
   "cell_type": "code",
   "execution_count": null,
   "metadata": {},
   "outputs": [],
   "source": [
    "model_6_pred = try_linear_models(X6, X6_test, y6_train, y6_test);"
   ]
  },
  {
   "cell_type": "code",
   "execution_count": null,
   "metadata": {},
   "outputs": [],
   "source": [
    "error_metrics(model_6_pred, y6_test)"
   ]
  },
  {
   "cell_type": "code",
   "execution_count": null,
   "metadata": {},
   "outputs": [],
   "source": [
    "price_country_vs_points = inspect_df(model_2_pred, y2_test)\n",
    "price_country_vs_points.head()"
   ]
  },
  {
   "cell_type": "code",
   "execution_count": null,
   "metadata": {},
   "outputs": [],
   "source": [
    "sns.regplot(x='Predicted', y='Actual', data=price_country_vs_points, color='darkmagenta')"
   ]
  },
  {
   "cell_type": "code",
   "execution_count": null,
   "metadata": {},
   "outputs": [],
   "source": []
  },
  {
   "cell_type": "code",
   "execution_count": null,
   "metadata": {},
   "outputs": [],
   "source": []
  },
  {
   "cell_type": "code",
   "execution_count": null,
   "metadata": {},
   "outputs": [],
   "source": [
    "X7, X7_test, y7_train, y7_test = prep_data_price_province(X, X_test, y_train, y_test);"
   ]
  },
  {
   "cell_type": "code",
   "execution_count": null,
   "metadata": {},
   "outputs": [],
   "source": [
    "model_7_pred = try_linear_models(X7, X7_test, y7_train, y7_test);"
   ]
  },
  {
   "cell_type": "code",
   "execution_count": null,
   "metadata": {},
   "outputs": [],
   "source": [
    "error_metrics(model_7_pred, y7_test)"
   ]
  },
  {
   "cell_type": "code",
   "execution_count": null,
   "metadata": {},
   "outputs": [],
   "source": [
    "price_province_vs_points = inspect_df(model_7_pred, y7_test)\n",
    "price_province_vs_points.head()"
   ]
  },
  {
   "cell_type": "code",
   "execution_count": null,
   "metadata": {},
   "outputs": [],
   "source": [
    "sns.regplot(x='Predicted', y='Actual', data=price_province_vs_points, color='darkmagenta')"
   ]
  },
  {
   "cell_type": "code",
   "execution_count": null,
   "metadata": {},
   "outputs": [],
   "source": []
  },
  {
   "cell_type": "code",
   "execution_count": null,
   "metadata": {},
   "outputs": [],
   "source": [
    "X8, X8_test, y8_train, y8_test = prep_data_price_province_variety(X, X_test, y_train, y_test);"
   ]
  },
  {
   "cell_type": "code",
   "execution_count": null,
   "metadata": {},
   "outputs": [],
   "source": [
    "model_8_pred = try_linear_models(X8, X8_test, y8_train, y8_test);"
   ]
  },
  {
   "cell_type": "code",
   "execution_count": null,
   "metadata": {},
   "outputs": [],
   "source": [
    "error_metrics(model_8_pred, y8_test)"
   ]
  },
  {
   "cell_type": "code",
   "execution_count": null,
   "metadata": {},
   "outputs": [],
   "source": [
    "price_province_variety_vs_points = inspect_df(model_8_pred, y8_test)\n",
    "price_province_variety_vs_points.head()"
   ]
  },
  {
   "cell_type": "code",
   "execution_count": null,
   "metadata": {},
   "outputs": [],
   "source": [
    "sns.regplot(x='Predicted', y='Actual', data=price_province_variety_vs_points, color='darkmagenta')"
   ]
  },
  {
   "cell_type": "code",
   "execution_count": null,
   "metadata": {},
   "outputs": [],
   "source": []
  },
  {
   "cell_type": "code",
   "execution_count": null,
   "metadata": {},
   "outputs": [],
   "source": [
    "X9, X9_test, y9_train, y9_test = prep_data_price_country_variety(X, X_test, y_train, y_test);"
   ]
  },
  {
   "cell_type": "code",
   "execution_count": null,
   "metadata": {},
   "outputs": [],
   "source": [
    "model_9_pred = try_linear_models(X9, X9_test, y9_train, y9_test);"
   ]
  },
  {
   "cell_type": "code",
   "execution_count": null,
   "metadata": {},
   "outputs": [],
   "source": [
    "error_metrics(model_9_pred, y9_test)"
   ]
  },
  {
   "cell_type": "code",
   "execution_count": null,
   "metadata": {},
   "outputs": [],
   "source": [
    "price_country_variety_vs_points = inspect_df(model_9_pred, y9_test)\n",
    "price_country_variety_vs_points.head()"
   ]
  },
  {
   "cell_type": "code",
   "execution_count": null,
   "metadata": {},
   "outputs": [],
   "source": [
    "sns.regplot(x='Predicted', y='Actual', data=price_country_variety_vs_points, color='darkmagenta')"
   ]
  },
  {
   "cell_type": "code",
   "execution_count": null,
   "metadata": {},
   "outputs": [],
   "source": []
  },
  {
   "cell_type": "code",
   "execution_count": null,
   "metadata": {},
   "outputs": [],
   "source": []
  },
  {
   "cell_type": "code",
   "execution_count": null,
   "metadata": {},
   "outputs": [],
   "source": []
  },
  {
   "cell_type": "code",
   "execution_count": null,
   "metadata": {},
   "outputs": [],
   "source": [
    "sns.set(style=\"darkgrid\")\n",
    "\n",
    "g = sns.jointplot(\"points\", \"price\", data=data, kind=\"reg\",\n",
    "                  xlim=(80, 100), ylim=(0, 200), color=\"darkmagenta\", height=7)\n",
    "plt.savefig('Images_Graphs/price_vs_points3.png', transparent=True, dpi=150, bbox_inches='tight')"
   ]
  },
  {
   "cell_type": "code",
   "execution_count": null,
   "metadata": {},
   "outputs": [],
   "source": []
  },
  {
   "cell_type": "code",
   "execution_count": null,
   "metadata": {},
   "outputs": [],
   "source": []
  },
  {
   "cell_type": "code",
   "execution_count": null,
   "metadata": {},
   "outputs": [],
   "source": [
    "plt.savefig('Images_Graphs/price_vs_points.png', transparent=True, dpi=150, bbox_inches='tight')"
   ]
  },
  {
   "cell_type": "code",
   "execution_count": null,
   "metadata": {},
   "outputs": [],
   "source": [
    "data['country']"
   ]
  },
  {
   "cell_type": "code",
   "execution_count": null,
   "metadata": {},
   "outputs": [],
   "source": []
  },
  {
   "cell_type": "code",
   "execution_count": null,
   "metadata": {},
   "outputs": [],
   "source": []
  },
  {
   "cell_type": "code",
   "execution_count": null,
   "metadata": {},
   "outputs": [],
   "source": []
  }
 ],
 "metadata": {
  "kernelspec": {
   "display_name": "Python 3",
   "language": "python",
   "name": "python3"
  },
  "language_info": {
   "codemirror_mode": {
    "name": "ipython",
    "version": 3
   },
   "file_extension": ".py",
   "mimetype": "text/x-python",
   "name": "python",
   "nbconvert_exporter": "python",
   "pygments_lexer": "ipython3",
   "version": "3.6.9"
  }
 },
 "nbformat": 4,
 "nbformat_minor": 4
}
